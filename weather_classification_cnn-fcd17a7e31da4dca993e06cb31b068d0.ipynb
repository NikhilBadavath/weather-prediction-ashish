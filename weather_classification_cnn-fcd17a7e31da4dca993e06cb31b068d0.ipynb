{
  "cells": [
    {
      "cell_type": "code",
      "execution_count": null,
      "metadata": {
        "id": "V6fld-sMnMcS"
      },
      "outputs": [],
      "source": [
        "from google_drive_downloader import GoogleDriveDownloader as gdd\n",
        "\n",
        "gdd.download_file_from_google_drive(file_id='1G_Ix97_JP5NhcmMY74ctA2piDxbiU1Lk',\n",
        "dest_path='content/weather.zip',\n",
        "unzip=True)"
      ]
    },
    {
      "cell_type": "code",
      "execution_count": null,
      "metadata": {
        "id": "DXsuKmwqnmBx"
      },
      "outputs": [],
      "source": [
        "import pandas as pd # Data analysis and manipultion tool\n",
        "import numpy as np # Fundamental package for linear algebra and multidimensional arrays\n",
        "import tensorflow as tf # Deep Learning Tool\n",
        "import os # OS module in Python provides a way of using operating system dependent functionality\n",
        "import cv2 # Library for image processing\n",
        "from sklearn.model_selection import train_test_split # For splitting the data into train and validation set"
      ]
    },
    {
      "cell_type": "code",
      "execution_count": null,
      "metadata": {
        "colab": {
          "base_uri": "https://localhost:8080/",
          "height": 73,
          "resources": {
            "http://localhost:8080/nbextensions/google.colab/files.js": {
              "data": "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",
              "headers": [
                [
                  "content-type",
                  "application/javascript"
                ]
              ],
              "ok": true,
              "status": 200,
              "status_text": ""
            }
          }
        },
        "id": "sAOx83VGnqml",
        "outputId": "16264ceb-cca6-4f52-eabc-554e3588540f"
      },
      "outputs": [
        {
          "output_type": "display_data",
          "data": {
            "text/plain": [
              "<IPython.core.display.HTML object>"
            ],
            "text/html": [
              "\n",
              "     <input type=\"file\" id=\"files-27de63a4-85f8-412e-a26f-7657eab57a42\" name=\"files[]\" multiple disabled\n",
              "        style=\"border:none\" />\n",
              "     <output id=\"result-27de63a4-85f8-412e-a26f-7657eab57a42\">\n",
              "      Upload widget is only available when the cell has been executed in the\n",
              "      current browser session. Please rerun this cell to enable.\n",
              "      </output>\n",
              "      <script src=\"/nbextensions/google.colab/files.js\"></script> "
            ]
          },
          "metadata": {}
        },
        {
          "output_type": "stream",
          "name": "stdout",
          "text": [
            "Saving Training_set.csv to Training_set (2).csv\n"
          ]
        }
      ],
      "source": [
        "from google.colab import files\n",
        "uploaded = files.upload()\n",
        "\n"
      ]
    },
    {
      "cell_type": "code",
      "execution_count": null,
      "metadata": {
        "colab": {
          "base_uri": "https://localhost:8080/",
          "height": 206
        },
        "id": "-CDMB8WKr9YA",
        "outputId": "f6c3f6e9-00f1-4ff1-990a-ac8b3569f423"
      },
      "outputs": [
        {
          "output_type": "execute_result",
          "data": {
            "text/plain": [
              "      filename    label\n",
              "0  Image_1.jpg  sunrise\n",
              "1  Image_2.jpg    shine\n",
              "2  Image_3.jpg   cloudy\n",
              "3  Image_4.jpg    shine\n",
              "4  Image_5.jpg  sunrise"
            ],
            "text/html": [
              "\n",
              "  <div id=\"df-ea5d4e3f-d6e1-4e84-9619-d1fc623ffd19\">\n",
              "    <div class=\"colab-df-container\">\n",
              "      <div>\n",
              "<style scoped>\n",
              "    .dataframe tbody tr th:only-of-type {\n",
              "        vertical-align: middle;\n",
              "    }\n",
              "\n",
              "    .dataframe tbody tr th {\n",
              "        vertical-align: top;\n",
              "    }\n",
              "\n",
              "    .dataframe thead th {\n",
              "        text-align: right;\n",
              "    }\n",
              "</style>\n",
              "<table border=\"1\" class=\"dataframe\">\n",
              "  <thead>\n",
              "    <tr style=\"text-align: right;\">\n",
              "      <th></th>\n",
              "      <th>filename</th>\n",
              "      <th>label</th>\n",
              "    </tr>\n",
              "  </thead>\n",
              "  <tbody>\n",
              "    <tr>\n",
              "      <th>0</th>\n",
              "      <td>Image_1.jpg</td>\n",
              "      <td>sunrise</td>\n",
              "    </tr>\n",
              "    <tr>\n",
              "      <th>1</th>\n",
              "      <td>Image_2.jpg</td>\n",
              "      <td>shine</td>\n",
              "    </tr>\n",
              "    <tr>\n",
              "      <th>2</th>\n",
              "      <td>Image_3.jpg</td>\n",
              "      <td>cloudy</td>\n",
              "    </tr>\n",
              "    <tr>\n",
              "      <th>3</th>\n",
              "      <td>Image_4.jpg</td>\n",
              "      <td>shine</td>\n",
              "    </tr>\n",
              "    <tr>\n",
              "      <th>4</th>\n",
              "      <td>Image_5.jpg</td>\n",
              "      <td>sunrise</td>\n",
              "    </tr>\n",
              "  </tbody>\n",
              "</table>\n",
              "</div>\n",
              "      <button class=\"colab-df-convert\" onclick=\"convertToInteractive('df-ea5d4e3f-d6e1-4e84-9619-d1fc623ffd19')\"\n",
              "              title=\"Convert this dataframe to an interactive table.\"\n",
              "              style=\"display:none;\">\n",
              "        \n",
              "  <svg xmlns=\"http://www.w3.org/2000/svg\" height=\"24px\"viewBox=\"0 0 24 24\"\n",
              "       width=\"24px\">\n",
              "    <path d=\"M0 0h24v24H0V0z\" fill=\"none\"/>\n",
              "    <path d=\"M18.56 5.44l.94 2.06.94-2.06 2.06-.94-2.06-.94-.94-2.06-.94 2.06-2.06.94zm-11 1L8.5 8.5l.94-2.06 2.06-.94-2.06-.94L8.5 2.5l-.94 2.06-2.06.94zm10 10l.94 2.06.94-2.06 2.06-.94-2.06-.94-.94-2.06-.94 2.06-2.06.94z\"/><path d=\"M17.41 7.96l-1.37-1.37c-.4-.4-.92-.59-1.43-.59-.52 0-1.04.2-1.43.59L10.3 9.45l-7.72 7.72c-.78.78-.78 2.05 0 2.83L4 21.41c.39.39.9.59 1.41.59.51 0 1.02-.2 1.41-.59l7.78-7.78 2.81-2.81c.8-.78.8-2.07 0-2.86zM5.41 20L4 18.59l7.72-7.72 1.47 1.35L5.41 20z\"/>\n",
              "  </svg>\n",
              "      </button>\n",
              "      \n",
              "  <style>\n",
              "    .colab-df-container {\n",
              "      display:flex;\n",
              "      flex-wrap:wrap;\n",
              "      gap: 12px;\n",
              "    }\n",
              "\n",
              "    .colab-df-convert {\n",
              "      background-color: #E8F0FE;\n",
              "      border: none;\n",
              "      border-radius: 50%;\n",
              "      cursor: pointer;\n",
              "      display: none;\n",
              "      fill: #1967D2;\n",
              "      height: 32px;\n",
              "      padding: 0 0 0 0;\n",
              "      width: 32px;\n",
              "    }\n",
              "\n",
              "    .colab-df-convert:hover {\n",
              "      background-color: #E2EBFA;\n",
              "      box-shadow: 0px 1px 2px rgba(60, 64, 67, 0.3), 0px 1px 3px 1px rgba(60, 64, 67, 0.15);\n",
              "      fill: #174EA6;\n",
              "    }\n",
              "\n",
              "    [theme=dark] .colab-df-convert {\n",
              "      background-color: #3B4455;\n",
              "      fill: #D2E3FC;\n",
              "    }\n",
              "\n",
              "    [theme=dark] .colab-df-convert:hover {\n",
              "      background-color: #434B5C;\n",
              "      box-shadow: 0px 1px 3px 1px rgba(0, 0, 0, 0.15);\n",
              "      filter: drop-shadow(0px 1px 2px rgba(0, 0, 0, 0.3));\n",
              "      fill: #FFFFFF;\n",
              "    }\n",
              "  </style>\n",
              "\n",
              "      <script>\n",
              "        const buttonEl =\n",
              "          document.querySelector('#df-ea5d4e3f-d6e1-4e84-9619-d1fc623ffd19 button.colab-df-convert');\n",
              "        buttonEl.style.display =\n",
              "          google.colab.kernel.accessAllowed ? 'block' : 'none';\n",
              "\n",
              "        async function convertToInteractive(key) {\n",
              "          const element = document.querySelector('#df-ea5d4e3f-d6e1-4e84-9619-d1fc623ffd19');\n",
              "          const dataTable =\n",
              "            await google.colab.kernel.invokeFunction('convertToInteractive',\n",
              "                                                     [key], {});\n",
              "          if (!dataTable) return;\n",
              "\n",
              "          const docLinkHtml = 'Like what you see? Visit the ' +\n",
              "            '<a target=\"_blank\" href=https://colab.research.google.com/notebooks/data_table.ipynb>data table notebook</a>'\n",
              "            + ' to learn more about interactive tables.';\n",
              "          element.innerHTML = '';\n",
              "          dataTable['output_type'] = 'display_data';\n",
              "          await google.colab.output.renderOutput(dataTable, element);\n",
              "          const docLink = document.createElement('div');\n",
              "          docLink.innerHTML = docLinkHtml;\n",
              "          element.appendChild(docLink);\n",
              "        }\n",
              "      </script>\n",
              "    </div>\n",
              "  </div>\n",
              "  "
            ]
          },
          "metadata": {},
          "execution_count": 5
        }
      ],
      "source": [
        "import io\n",
        "labels = pd.read_csv(io.BytesIO(uploaded['Training_set.csv']))\n",
        "labels.head()"
      ]
    },
    {
      "cell_type": "code",
      "execution_count": null,
      "metadata": {
        "colab": {
          "base_uri": "https://localhost:8080/",
          "height": 206
        },
        "id": "WNW0u6c8sJpo",
        "outputId": "b2bee42f-2868-4b15-bb28-8788174bca59"
      },
      "outputs": [
        {
          "output_type": "execute_result",
          "data": {
            "text/plain": [
              "            filename    label\n",
              "1043  Image_1044.jpg    foggy\n",
              "1044  Image_1045.jpg  sunrise\n",
              "1045  Image_1046.jpg   cloudy\n",
              "1046  Image_1047.jpg    rainy\n",
              "1047  Image_1048.jpg  sunrise"
            ],
            "text/html": [
              "\n",
              "  <div id=\"df-89e44ec6-5855-4562-9df3-14872d182e7a\">\n",
              "    <div class=\"colab-df-container\">\n",
              "      <div>\n",
              "<style scoped>\n",
              "    .dataframe tbody tr th:only-of-type {\n",
              "        vertical-align: middle;\n",
              "    }\n",
              "\n",
              "    .dataframe tbody tr th {\n",
              "        vertical-align: top;\n",
              "    }\n",
              "\n",
              "    .dataframe thead th {\n",
              "        text-align: right;\n",
              "    }\n",
              "</style>\n",
              "<table border=\"1\" class=\"dataframe\">\n",
              "  <thead>\n",
              "    <tr style=\"text-align: right;\">\n",
              "      <th></th>\n",
              "      <th>filename</th>\n",
              "      <th>label</th>\n",
              "    </tr>\n",
              "  </thead>\n",
              "  <tbody>\n",
              "    <tr>\n",
              "      <th>1043</th>\n",
              "      <td>Image_1044.jpg</td>\n",
              "      <td>foggy</td>\n",
              "    </tr>\n",
              "    <tr>\n",
              "      <th>1044</th>\n",
              "      <td>Image_1045.jpg</td>\n",
              "      <td>sunrise</td>\n",
              "    </tr>\n",
              "    <tr>\n",
              "      <th>1045</th>\n",
              "      <td>Image_1046.jpg</td>\n",
              "      <td>cloudy</td>\n",
              "    </tr>\n",
              "    <tr>\n",
              "      <th>1046</th>\n",
              "      <td>Image_1047.jpg</td>\n",
              "      <td>rainy</td>\n",
              "    </tr>\n",
              "    <tr>\n",
              "      <th>1047</th>\n",
              "      <td>Image_1048.jpg</td>\n",
              "      <td>sunrise</td>\n",
              "    </tr>\n",
              "  </tbody>\n",
              "</table>\n",
              "</div>\n",
              "      <button class=\"colab-df-convert\" onclick=\"convertToInteractive('df-89e44ec6-5855-4562-9df3-14872d182e7a')\"\n",
              "              title=\"Convert this dataframe to an interactive table.\"\n",
              "              style=\"display:none;\">\n",
              "        \n",
              "  <svg xmlns=\"http://www.w3.org/2000/svg\" height=\"24px\"viewBox=\"0 0 24 24\"\n",
              "       width=\"24px\">\n",
              "    <path d=\"M0 0h24v24H0V0z\" fill=\"none\"/>\n",
              "    <path d=\"M18.56 5.44l.94 2.06.94-2.06 2.06-.94-2.06-.94-.94-2.06-.94 2.06-2.06.94zm-11 1L8.5 8.5l.94-2.06 2.06-.94-2.06-.94L8.5 2.5l-.94 2.06-2.06.94zm10 10l.94 2.06.94-2.06 2.06-.94-2.06-.94-.94-2.06-.94 2.06-2.06.94z\"/><path d=\"M17.41 7.96l-1.37-1.37c-.4-.4-.92-.59-1.43-.59-.52 0-1.04.2-1.43.59L10.3 9.45l-7.72 7.72c-.78.78-.78 2.05 0 2.83L4 21.41c.39.39.9.59 1.41.59.51 0 1.02-.2 1.41-.59l7.78-7.78 2.81-2.81c.8-.78.8-2.07 0-2.86zM5.41 20L4 18.59l7.72-7.72 1.47 1.35L5.41 20z\"/>\n",
              "  </svg>\n",
              "      </button>\n",
              "      \n",
              "  <style>\n",
              "    .colab-df-container {\n",
              "      display:flex;\n",
              "      flex-wrap:wrap;\n",
              "      gap: 12px;\n",
              "    }\n",
              "\n",
              "    .colab-df-convert {\n",
              "      background-color: #E8F0FE;\n",
              "      border: none;\n",
              "      border-radius: 50%;\n",
              "      cursor: pointer;\n",
              "      display: none;\n",
              "      fill: #1967D2;\n",
              "      height: 32px;\n",
              "      padding: 0 0 0 0;\n",
              "      width: 32px;\n",
              "    }\n",
              "\n",
              "    .colab-df-convert:hover {\n",
              "      background-color: #E2EBFA;\n",
              "      box-shadow: 0px 1px 2px rgba(60, 64, 67, 0.3), 0px 1px 3px 1px rgba(60, 64, 67, 0.15);\n",
              "      fill: #174EA6;\n",
              "    }\n",
              "\n",
              "    [theme=dark] .colab-df-convert {\n",
              "      background-color: #3B4455;\n",
              "      fill: #D2E3FC;\n",
              "    }\n",
              "\n",
              "    [theme=dark] .colab-df-convert:hover {\n",
              "      background-color: #434B5C;\n",
              "      box-shadow: 0px 1px 3px 1px rgba(0, 0, 0, 0.15);\n",
              "      filter: drop-shadow(0px 1px 2px rgba(0, 0, 0, 0.3));\n",
              "      fill: #FFFFFF;\n",
              "    }\n",
              "  </style>\n",
              "\n",
              "      <script>\n",
              "        const buttonEl =\n",
              "          document.querySelector('#df-89e44ec6-5855-4562-9df3-14872d182e7a button.colab-df-convert');\n",
              "        buttonEl.style.display =\n",
              "          google.colab.kernel.accessAllowed ? 'block' : 'none';\n",
              "\n",
              "        async function convertToInteractive(key) {\n",
              "          const element = document.querySelector('#df-89e44ec6-5855-4562-9df3-14872d182e7a');\n",
              "          const dataTable =\n",
              "            await google.colab.kernel.invokeFunction('convertToInteractive',\n",
              "                                                     [key], {});\n",
              "          if (!dataTable) return;\n",
              "\n",
              "          const docLinkHtml = 'Like what you see? Visit the ' +\n",
              "            '<a target=\"_blank\" href=https://colab.research.google.com/notebooks/data_table.ipynb>data table notebook</a>'\n",
              "            + ' to learn more about interactive tables.';\n",
              "          element.innerHTML = '';\n",
              "          dataTable['output_type'] = 'display_data';\n",
              "          await google.colab.output.renderOutput(dataTable, element);\n",
              "          const docLink = document.createElement('div');\n",
              "          docLink.innerHTML = docLinkHtml;\n",
              "          element.appendChild(docLink);\n",
              "        }\n",
              "      </script>\n",
              "    </div>\n",
              "  </div>\n",
              "  "
            ]
          },
          "metadata": {},
          "execution_count": 6
        }
      ],
      "source": [
        "labels.tail() # will display the last five rows in labels dataframe\n"
      ]
    },
    {
      "cell_type": "code",
      "execution_count": null,
      "metadata": {
        "id": "oHdMiFXDsPGH"
      },
      "outputs": [],
      "source": [
        "file_paths = [[fname, \"/content/drive/MyDrive/dphi_data/\" + fname] for fname in labels['filename']]\n"
      ]
    },
    {
      "cell_type": "code",
      "execution_count": null,
      "metadata": {
        "colab": {
          "base_uri": "https://localhost:8080/"
        },
        "id": "ITJylRExsS2f",
        "outputId": "f54e0f9c-d4c4-49b1-ff38-a9dd35868610"
      },
      "outputs": [
        {
          "output_type": "stream",
          "name": "stdout",
          "text": [
            "Number of labels i.e.  1048 matches the number of filenames i.e.  1048\n"
          ]
        }
      ],
      "source": [
        "# Confirm if number of images is same as number of labels given\n",
        "if len(labels) == len(file_paths):\n",
        "  print('Number of labels i.e. ', len(labels), 'matches the number of filenames i.e. ', len(file_paths))\n",
        "else:\n",
        "  print('Number of labels does not match the number of filenames')"
      ]
    },
    {
      "cell_type": "code",
      "execution_count": null,
      "metadata": {
        "colab": {
          "base_uri": "https://localhost:8080/",
          "height": 833
        },
        "id": "U3a48B3rsX9m",
        "outputId": "8e77688c-8923-4abe-a2f3-d24f5cf2e7cf"
      },
      "outputs": [
        {
          "output_type": "execute_result",
          "data": {
            "text/plain": [
              "        filename                                      filepaths\n",
              "0    Image_1.jpg   /content/drive/MyDrive/dphi_data/Image_1.jpg\n",
              "1    Image_2.jpg   /content/drive/MyDrive/dphi_data/Image_2.jpg\n",
              "2    Image_3.jpg   /content/drive/MyDrive/dphi_data/Image_3.jpg\n",
              "3    Image_4.jpg   /content/drive/MyDrive/dphi_data/Image_4.jpg\n",
              "4    Image_5.jpg   /content/drive/MyDrive/dphi_data/Image_5.jpg\n",
              "5    Image_6.jpg   /content/drive/MyDrive/dphi_data/Image_6.jpg\n",
              "6    Image_7.jpg   /content/drive/MyDrive/dphi_data/Image_7.jpg\n",
              "7    Image_8.jpg   /content/drive/MyDrive/dphi_data/Image_8.jpg\n",
              "8    Image_9.jpg   /content/drive/MyDrive/dphi_data/Image_9.jpg\n",
              "9   Image_10.jpg  /content/drive/MyDrive/dphi_data/Image_10.jpg\n",
              "10  Image_11.jpg  /content/drive/MyDrive/dphi_data/Image_11.jpg\n",
              "11  Image_12.jpg  /content/drive/MyDrive/dphi_data/Image_12.jpg\n",
              "12  Image_13.jpg  /content/drive/MyDrive/dphi_data/Image_13.jpg\n",
              "13  Image_14.jpg  /content/drive/MyDrive/dphi_data/Image_14.jpg\n",
              "14  Image_15.jpg  /content/drive/MyDrive/dphi_data/Image_15.jpg\n",
              "15  Image_16.jpg  /content/drive/MyDrive/dphi_data/Image_16.jpg\n",
              "16  Image_17.jpg  /content/drive/MyDrive/dphi_data/Image_17.jpg\n",
              "17  Image_18.jpg  /content/drive/MyDrive/dphi_data/Image_18.jpg\n",
              "18  Image_19.jpg  /content/drive/MyDrive/dphi_data/Image_19.jpg\n",
              "19  Image_20.jpg  /content/drive/MyDrive/dphi_data/Image_20.jpg\n",
              "20  Image_21.jpg  /content/drive/MyDrive/dphi_data/Image_21.jpg\n",
              "21  Image_22.jpg  /content/drive/MyDrive/dphi_data/Image_22.jpg\n",
              "22  Image_23.jpg  /content/drive/MyDrive/dphi_data/Image_23.jpg\n",
              "23  Image_24.jpg  /content/drive/MyDrive/dphi_data/Image_24.jpg\n",
              "24  Image_25.jpg  /content/drive/MyDrive/dphi_data/Image_25.jpg"
            ],
            "text/html": [
              "\n",
              "  <div id=\"df-1e93fcfd-c7df-4194-826e-f167f79acbfc\">\n",
              "    <div class=\"colab-df-container\">\n",
              "      <div>\n",
              "<style scoped>\n",
              "    .dataframe tbody tr th:only-of-type {\n",
              "        vertical-align: middle;\n",
              "    }\n",
              "\n",
              "    .dataframe tbody tr th {\n",
              "        vertical-align: top;\n",
              "    }\n",
              "\n",
              "    .dataframe thead th {\n",
              "        text-align: right;\n",
              "    }\n",
              "</style>\n",
              "<table border=\"1\" class=\"dataframe\">\n",
              "  <thead>\n",
              "    <tr style=\"text-align: right;\">\n",
              "      <th></th>\n",
              "      <th>filename</th>\n",
              "      <th>filepaths</th>\n",
              "    </tr>\n",
              "  </thead>\n",
              "  <tbody>\n",
              "    <tr>\n",
              "      <th>0</th>\n",
              "      <td>Image_1.jpg</td>\n",
              "      <td>/content/drive/MyDrive/dphi_data/Image_1.jpg</td>\n",
              "    </tr>\n",
              "    <tr>\n",
              "      <th>1</th>\n",
              "      <td>Image_2.jpg</td>\n",
              "      <td>/content/drive/MyDrive/dphi_data/Image_2.jpg</td>\n",
              "    </tr>\n",
              "    <tr>\n",
              "      <th>2</th>\n",
              "      <td>Image_3.jpg</td>\n",
              "      <td>/content/drive/MyDrive/dphi_data/Image_3.jpg</td>\n",
              "    </tr>\n",
              "    <tr>\n",
              "      <th>3</th>\n",
              "      <td>Image_4.jpg</td>\n",
              "      <td>/content/drive/MyDrive/dphi_data/Image_4.jpg</td>\n",
              "    </tr>\n",
              "    <tr>\n",
              "      <th>4</th>\n",
              "      <td>Image_5.jpg</td>\n",
              "      <td>/content/drive/MyDrive/dphi_data/Image_5.jpg</td>\n",
              "    </tr>\n",
              "    <tr>\n",
              "      <th>5</th>\n",
              "      <td>Image_6.jpg</td>\n",
              "      <td>/content/drive/MyDrive/dphi_data/Image_6.jpg</td>\n",
              "    </tr>\n",
              "    <tr>\n",
              "      <th>6</th>\n",
              "      <td>Image_7.jpg</td>\n",
              "      <td>/content/drive/MyDrive/dphi_data/Image_7.jpg</td>\n",
              "    </tr>\n",
              "    <tr>\n",
              "      <th>7</th>\n",
              "      <td>Image_8.jpg</td>\n",
              "      <td>/content/drive/MyDrive/dphi_data/Image_8.jpg</td>\n",
              "    </tr>\n",
              "    <tr>\n",
              "      <th>8</th>\n",
              "      <td>Image_9.jpg</td>\n",
              "      <td>/content/drive/MyDrive/dphi_data/Image_9.jpg</td>\n",
              "    </tr>\n",
              "    <tr>\n",
              "      <th>9</th>\n",
              "      <td>Image_10.jpg</td>\n",
              "      <td>/content/drive/MyDrive/dphi_data/Image_10.jpg</td>\n",
              "    </tr>\n",
              "    <tr>\n",
              "      <th>10</th>\n",
              "      <td>Image_11.jpg</td>\n",
              "      <td>/content/drive/MyDrive/dphi_data/Image_11.jpg</td>\n",
              "    </tr>\n",
              "    <tr>\n",
              "      <th>11</th>\n",
              "      <td>Image_12.jpg</td>\n",
              "      <td>/content/drive/MyDrive/dphi_data/Image_12.jpg</td>\n",
              "    </tr>\n",
              "    <tr>\n",
              "      <th>12</th>\n",
              "      <td>Image_13.jpg</td>\n",
              "      <td>/content/drive/MyDrive/dphi_data/Image_13.jpg</td>\n",
              "    </tr>\n",
              "    <tr>\n",
              "      <th>13</th>\n",
              "      <td>Image_14.jpg</td>\n",
              "      <td>/content/drive/MyDrive/dphi_data/Image_14.jpg</td>\n",
              "    </tr>\n",
              "    <tr>\n",
              "      <th>14</th>\n",
              "      <td>Image_15.jpg</td>\n",
              "      <td>/content/drive/MyDrive/dphi_data/Image_15.jpg</td>\n",
              "    </tr>\n",
              "    <tr>\n",
              "      <th>15</th>\n",
              "      <td>Image_16.jpg</td>\n",
              "      <td>/content/drive/MyDrive/dphi_data/Image_16.jpg</td>\n",
              "    </tr>\n",
              "    <tr>\n",
              "      <th>16</th>\n",
              "      <td>Image_17.jpg</td>\n",
              "      <td>/content/drive/MyDrive/dphi_data/Image_17.jpg</td>\n",
              "    </tr>\n",
              "    <tr>\n",
              "      <th>17</th>\n",
              "      <td>Image_18.jpg</td>\n",
              "      <td>/content/drive/MyDrive/dphi_data/Image_18.jpg</td>\n",
              "    </tr>\n",
              "    <tr>\n",
              "      <th>18</th>\n",
              "      <td>Image_19.jpg</td>\n",
              "      <td>/content/drive/MyDrive/dphi_data/Image_19.jpg</td>\n",
              "    </tr>\n",
              "    <tr>\n",
              "      <th>19</th>\n",
              "      <td>Image_20.jpg</td>\n",
              "      <td>/content/drive/MyDrive/dphi_data/Image_20.jpg</td>\n",
              "    </tr>\n",
              "    <tr>\n",
              "      <th>20</th>\n",
              "      <td>Image_21.jpg</td>\n",
              "      <td>/content/drive/MyDrive/dphi_data/Image_21.jpg</td>\n",
              "    </tr>\n",
              "    <tr>\n",
              "      <th>21</th>\n",
              "      <td>Image_22.jpg</td>\n",
              "      <td>/content/drive/MyDrive/dphi_data/Image_22.jpg</td>\n",
              "    </tr>\n",
              "    <tr>\n",
              "      <th>22</th>\n",
              "      <td>Image_23.jpg</td>\n",
              "      <td>/content/drive/MyDrive/dphi_data/Image_23.jpg</td>\n",
              "    </tr>\n",
              "    <tr>\n",
              "      <th>23</th>\n",
              "      <td>Image_24.jpg</td>\n",
              "      <td>/content/drive/MyDrive/dphi_data/Image_24.jpg</td>\n",
              "    </tr>\n",
              "    <tr>\n",
              "      <th>24</th>\n",
              "      <td>Image_25.jpg</td>\n",
              "      <td>/content/drive/MyDrive/dphi_data/Image_25.jpg</td>\n",
              "    </tr>\n",
              "  </tbody>\n",
              "</table>\n",
              "</div>\n",
              "      <button class=\"colab-df-convert\" onclick=\"convertToInteractive('df-1e93fcfd-c7df-4194-826e-f167f79acbfc')\"\n",
              "              title=\"Convert this dataframe to an interactive table.\"\n",
              "              style=\"display:none;\">\n",
              "        \n",
              "  <svg xmlns=\"http://www.w3.org/2000/svg\" height=\"24px\"viewBox=\"0 0 24 24\"\n",
              "       width=\"24px\">\n",
              "    <path d=\"M0 0h24v24H0V0z\" fill=\"none\"/>\n",
              "    <path d=\"M18.56 5.44l.94 2.06.94-2.06 2.06-.94-2.06-.94-.94-2.06-.94 2.06-2.06.94zm-11 1L8.5 8.5l.94-2.06 2.06-.94-2.06-.94L8.5 2.5l-.94 2.06-2.06.94zm10 10l.94 2.06.94-2.06 2.06-.94-2.06-.94-.94-2.06-.94 2.06-2.06.94z\"/><path d=\"M17.41 7.96l-1.37-1.37c-.4-.4-.92-.59-1.43-.59-.52 0-1.04.2-1.43.59L10.3 9.45l-7.72 7.72c-.78.78-.78 2.05 0 2.83L4 21.41c.39.39.9.59 1.41.59.51 0 1.02-.2 1.41-.59l7.78-7.78 2.81-2.81c.8-.78.8-2.07 0-2.86zM5.41 20L4 18.59l7.72-7.72 1.47 1.35L5.41 20z\"/>\n",
              "  </svg>\n",
              "      </button>\n",
              "      \n",
              "  <style>\n",
              "    .colab-df-container {\n",
              "      display:flex;\n",
              "      flex-wrap:wrap;\n",
              "      gap: 12px;\n",
              "    }\n",
              "\n",
              "    .colab-df-convert {\n",
              "      background-color: #E8F0FE;\n",
              "      border: none;\n",
              "      border-radius: 50%;\n",
              "      cursor: pointer;\n",
              "      display: none;\n",
              "      fill: #1967D2;\n",
              "      height: 32px;\n",
              "      padding: 0 0 0 0;\n",
              "      width: 32px;\n",
              "    }\n",
              "\n",
              "    .colab-df-convert:hover {\n",
              "      background-color: #E2EBFA;\n",
              "      box-shadow: 0px 1px 2px rgba(60, 64, 67, 0.3), 0px 1px 3px 1px rgba(60, 64, 67, 0.15);\n",
              "      fill: #174EA6;\n",
              "    }\n",
              "\n",
              "    [theme=dark] .colab-df-convert {\n",
              "      background-color: #3B4455;\n",
              "      fill: #D2E3FC;\n",
              "    }\n",
              "\n",
              "    [theme=dark] .colab-df-convert:hover {\n",
              "      background-color: #434B5C;\n",
              "      box-shadow: 0px 1px 3px 1px rgba(0, 0, 0, 0.15);\n",
              "      filter: drop-shadow(0px 1px 2px rgba(0, 0, 0, 0.3));\n",
              "      fill: #FFFFFF;\n",
              "    }\n",
              "  </style>\n",
              "\n",
              "      <script>\n",
              "        const buttonEl =\n",
              "          document.querySelector('#df-1e93fcfd-c7df-4194-826e-f167f79acbfc button.colab-df-convert');\n",
              "        buttonEl.style.display =\n",
              "          google.colab.kernel.accessAllowed ? 'block' : 'none';\n",
              "\n",
              "        async function convertToInteractive(key) {\n",
              "          const element = document.querySelector('#df-1e93fcfd-c7df-4194-826e-f167f79acbfc');\n",
              "          const dataTable =\n",
              "            await google.colab.kernel.invokeFunction('convertToInteractive',\n",
              "                                                     [key], {});\n",
              "          if (!dataTable) return;\n",
              "\n",
              "          const docLinkHtml = 'Like what you see? Visit the ' +\n",
              "            '<a target=\"_blank\" href=https://colab.research.google.com/notebooks/data_table.ipynb>data table notebook</a>'\n",
              "            + ' to learn more about interactive tables.';\n",
              "          element.innerHTML = '';\n",
              "          dataTable['output_type'] = 'display_data';\n",
              "          await google.colab.output.renderOutput(dataTable, element);\n",
              "          const docLink = document.createElement('div');\n",
              "          docLink.innerHTML = docLinkHtml;\n",
              "          element.appendChild(docLink);\n",
              "        }\n",
              "      </script>\n",
              "    </div>\n",
              "  </div>\n",
              "  "
            ]
          },
          "metadata": {},
          "execution_count": 9
        }
      ],
      "source": [
        "images = pd.DataFrame(file_paths, columns=['filename', 'filepaths'])\n",
        "images.head(25)"
      ]
    },
    {
      "cell_type": "code",
      "execution_count": null,
      "metadata": {
        "colab": {
          "base_uri": "https://localhost:8080/",
          "height": 206
        },
        "id": "PL3oPrErsfdW",
        "outputId": "897a1bd5-e9e2-44d7-bf8b-547f1d17a0fa"
      },
      "outputs": [
        {
          "output_type": "execute_result",
          "data": {
            "text/plain": [
              "      filename                                     filepaths    label\n",
              "0  Image_1.jpg  /content/drive/MyDrive/dphi_data/Image_1.jpg  sunrise\n",
              "1  Image_2.jpg  /content/drive/MyDrive/dphi_data/Image_2.jpg    shine\n",
              "2  Image_3.jpg  /content/drive/MyDrive/dphi_data/Image_3.jpg   cloudy\n",
              "3  Image_4.jpg  /content/drive/MyDrive/dphi_data/Image_4.jpg    shine\n",
              "4  Image_5.jpg  /content/drive/MyDrive/dphi_data/Image_5.jpg  sunrise"
            ],
            "text/html": [
              "\n",
              "  <div id=\"df-3a671ee6-bd86-40f3-aa00-2fc542fddc50\">\n",
              "    <div class=\"colab-df-container\">\n",
              "      <div>\n",
              "<style scoped>\n",
              "    .dataframe tbody tr th:only-of-type {\n",
              "        vertical-align: middle;\n",
              "    }\n",
              "\n",
              "    .dataframe tbody tr th {\n",
              "        vertical-align: top;\n",
              "    }\n",
              "\n",
              "    .dataframe thead th {\n",
              "        text-align: right;\n",
              "    }\n",
              "</style>\n",
              "<table border=\"1\" class=\"dataframe\">\n",
              "  <thead>\n",
              "    <tr style=\"text-align: right;\">\n",
              "      <th></th>\n",
              "      <th>filename</th>\n",
              "      <th>filepaths</th>\n",
              "      <th>label</th>\n",
              "    </tr>\n",
              "  </thead>\n",
              "  <tbody>\n",
              "    <tr>\n",
              "      <th>0</th>\n",
              "      <td>Image_1.jpg</td>\n",
              "      <td>/content/drive/MyDrive/dphi_data/Image_1.jpg</td>\n",
              "      <td>sunrise</td>\n",
              "    </tr>\n",
              "    <tr>\n",
              "      <th>1</th>\n",
              "      <td>Image_2.jpg</td>\n",
              "      <td>/content/drive/MyDrive/dphi_data/Image_2.jpg</td>\n",
              "      <td>shine</td>\n",
              "    </tr>\n",
              "    <tr>\n",
              "      <th>2</th>\n",
              "      <td>Image_3.jpg</td>\n",
              "      <td>/content/drive/MyDrive/dphi_data/Image_3.jpg</td>\n",
              "      <td>cloudy</td>\n",
              "    </tr>\n",
              "    <tr>\n",
              "      <th>3</th>\n",
              "      <td>Image_4.jpg</td>\n",
              "      <td>/content/drive/MyDrive/dphi_data/Image_4.jpg</td>\n",
              "      <td>shine</td>\n",
              "    </tr>\n",
              "    <tr>\n",
              "      <th>4</th>\n",
              "      <td>Image_5.jpg</td>\n",
              "      <td>/content/drive/MyDrive/dphi_data/Image_5.jpg</td>\n",
              "      <td>sunrise</td>\n",
              "    </tr>\n",
              "  </tbody>\n",
              "</table>\n",
              "</div>\n",
              "      <button class=\"colab-df-convert\" onclick=\"convertToInteractive('df-3a671ee6-bd86-40f3-aa00-2fc542fddc50')\"\n",
              "              title=\"Convert this dataframe to an interactive table.\"\n",
              "              style=\"display:none;\">\n",
              "        \n",
              "  <svg xmlns=\"http://www.w3.org/2000/svg\" height=\"24px\"viewBox=\"0 0 24 24\"\n",
              "       width=\"24px\">\n",
              "    <path d=\"M0 0h24v24H0V0z\" fill=\"none\"/>\n",
              "    <path d=\"M18.56 5.44l.94 2.06.94-2.06 2.06-.94-2.06-.94-.94-2.06-.94 2.06-2.06.94zm-11 1L8.5 8.5l.94-2.06 2.06-.94-2.06-.94L8.5 2.5l-.94 2.06-2.06.94zm10 10l.94 2.06.94-2.06 2.06-.94-2.06-.94-.94-2.06-.94 2.06-2.06.94z\"/><path d=\"M17.41 7.96l-1.37-1.37c-.4-.4-.92-.59-1.43-.59-.52 0-1.04.2-1.43.59L10.3 9.45l-7.72 7.72c-.78.78-.78 2.05 0 2.83L4 21.41c.39.39.9.59 1.41.59.51 0 1.02-.2 1.41-.59l7.78-7.78 2.81-2.81c.8-.78.8-2.07 0-2.86zM5.41 20L4 18.59l7.72-7.72 1.47 1.35L5.41 20z\"/>\n",
              "  </svg>\n",
              "      </button>\n",
              "      \n",
              "  <style>\n",
              "    .colab-df-container {\n",
              "      display:flex;\n",
              "      flex-wrap:wrap;\n",
              "      gap: 12px;\n",
              "    }\n",
              "\n",
              "    .colab-df-convert {\n",
              "      background-color: #E8F0FE;\n",
              "      border: none;\n",
              "      border-radius: 50%;\n",
              "      cursor: pointer;\n",
              "      display: none;\n",
              "      fill: #1967D2;\n",
              "      height: 32px;\n",
              "      padding: 0 0 0 0;\n",
              "      width: 32px;\n",
              "    }\n",
              "\n",
              "    .colab-df-convert:hover {\n",
              "      background-color: #E2EBFA;\n",
              "      box-shadow: 0px 1px 2px rgba(60, 64, 67, 0.3), 0px 1px 3px 1px rgba(60, 64, 67, 0.15);\n",
              "      fill: #174EA6;\n",
              "    }\n",
              "\n",
              "    [theme=dark] .colab-df-convert {\n",
              "      background-color: #3B4455;\n",
              "      fill: #D2E3FC;\n",
              "    }\n",
              "\n",
              "    [theme=dark] .colab-df-convert:hover {\n",
              "      background-color: #434B5C;\n",
              "      box-shadow: 0px 1px 3px 1px rgba(0, 0, 0, 0.15);\n",
              "      filter: drop-shadow(0px 1px 2px rgba(0, 0, 0, 0.3));\n",
              "      fill: #FFFFFF;\n",
              "    }\n",
              "  </style>\n",
              "\n",
              "      <script>\n",
              "        const buttonEl =\n",
              "          document.querySelector('#df-3a671ee6-bd86-40f3-aa00-2fc542fddc50 button.colab-df-convert');\n",
              "        buttonEl.style.display =\n",
              "          google.colab.kernel.accessAllowed ? 'block' : 'none';\n",
              "\n",
              "        async function convertToInteractive(key) {\n",
              "          const element = document.querySelector('#df-3a671ee6-bd86-40f3-aa00-2fc542fddc50');\n",
              "          const dataTable =\n",
              "            await google.colab.kernel.invokeFunction('convertToInteractive',\n",
              "                                                     [key], {});\n",
              "          if (!dataTable) return;\n",
              "\n",
              "          const docLinkHtml = 'Like what you see? Visit the ' +\n",
              "            '<a target=\"_blank\" href=https://colab.research.google.com/notebooks/data_table.ipynb>data table notebook</a>'\n",
              "            + ' to learn more about interactive tables.';\n",
              "          element.innerHTML = '';\n",
              "          dataTable['output_type'] = 'display_data';\n",
              "          await google.colab.output.renderOutput(dataTable, element);\n",
              "          const docLink = document.createElement('div');\n",
              "          docLink.innerHTML = docLinkHtml;\n",
              "          element.appendChild(docLink);\n",
              "        }\n",
              "      </script>\n",
              "    </div>\n",
              "  </div>\n",
              "  "
            ]
          },
          "metadata": {},
          "execution_count": 10
        }
      ],
      "source": [
        "train_data = pd.merge(images, labels, how = 'inner', on = 'filename')\n",
        "train_data.head()"
      ]
    },
    {
      "cell_type": "code",
      "execution_count": null,
      "metadata": {
        "id": "Vg12k1hhtdQ_"
      },
      "outputs": [],
      "source": [
        "from sklearn.preprocessing import LabelEncoder\n",
        "le = LabelEncoder()\n",
        "train_data['label'] = le.fit_transform(train_data['label'])\n"
      ]
    },
    {
      "cell_type": "code",
      "source": [
        "print(train_data[:5])"
      ],
      "metadata": {
        "colab": {
          "base_uri": "https://localhost:8080/"
        },
        "id": "Xf6V5h5EldOW",
        "outputId": "5665a86a-6b2d-467c-ba0d-5820d87790ae"
      },
      "execution_count": null,
      "outputs": [
        {
          "output_type": "stream",
          "name": "stdout",
          "text": [
            "      filename                                     filepaths  label\n",
            "0  Image_1.jpg  /content/drive/MyDrive/dphi_data/Image_1.jpg      4\n",
            "1  Image_2.jpg  /content/drive/MyDrive/dphi_data/Image_2.jpg      3\n",
            "2  Image_3.jpg  /content/drive/MyDrive/dphi_data/Image_3.jpg      0\n",
            "3  Image_4.jpg  /content/drive/MyDrive/dphi_data/Image_4.jpg      3\n",
            "4  Image_5.jpg  /content/drive/MyDrive/dphi_data/Image_5.jpg      4\n"
          ]
        }
      ]
    },
    {
      "cell_type": "code",
      "execution_count": null,
      "metadata": {
        "id": "11zwLMQ9tef5"
      },
      "outputs": [],
      "source": [
        "\n",
        "data = [] # initialize an empty numpy array\n",
        "image_size = 100 # image size taken is 100 here. one can take other size too\n",
        "for i in range(len(train_data)):\n",
        "\n",
        "  img_array = cv2.imread(train_data['filepaths'][i]) # converting the image to gray scale\n",
        "  square_img_array = cv2.resize(img_array, (image_size, image_size), interpolation = cv2.INTER_NEAREST) # resizing the image array\n",
        "  data.append([square_img_array, train_data['label'][i]])"
      ]
    },
    {
      "cell_type": "code",
      "execution_count": null,
      "metadata": {
        "colab": {
          "base_uri": "https://localhost:8080/"
        },
        "id": "10u4C1CWv9Vg",
        "outputId": "593ede05-e250-4f8a-b773-b8a9bf3262d5"
      },
      "outputs": [
        {
          "output_type": "execute_result",
          "data": {
            "text/plain": [
              "1048"
            ]
          },
          "metadata": {},
          "execution_count": 14
        }
      ],
      "source": [
        "len(data)"
      ]
    },
    {
      "cell_type": "code",
      "execution_count": null,
      "metadata": {
        "id": "K85Q2gu0QQkb"
      },
      "outputs": [],
      "source": [
        "np.random.shuffle(data)\n"
      ]
    },
    {
      "cell_type": "code",
      "execution_count": null,
      "metadata": {
        "id": "zH3KkMk2QiTj"
      },
      "outputs": [],
      "source": [
        "x = []\n",
        "y = []\n",
        "for image in data:\n",
        "  x.append(image[0])\n",
        "  y.append(image[1])\n",
        "\n",
        "# converting x & y to numpy array as they are list\n",
        "x = np.array(x)\n",
        "y = np.array(y)"
      ]
    },
    {
      "cell_type": "code",
      "execution_count": null,
      "metadata": {
        "colab": {
          "base_uri": "https://localhost:8080/"
        },
        "id": "D0l_2gKdQnib",
        "outputId": "5195ee65-fad1-481b-960d-9ad794b8b775"
      },
      "outputs": [
        {
          "output_type": "execute_result",
          "data": {
            "text/plain": [
              "(array([0, 1, 2, 3, 4]), array([210, 210, 209, 174, 245]))"
            ]
          },
          "metadata": {},
          "execution_count": 17
        }
      ],
      "source": [
        "np.unique(y, return_counts=True)\n"
      ]
    },
    {
      "cell_type": "code",
      "execution_count": null,
      "metadata": {
        "id": "6oa128NWQtHD"
      },
      "outputs": [],
      "source": [
        "x = x.reshape(-1, image_size, image_size, 3)\n"
      ]
    },
    {
      "cell_type": "code",
      "execution_count": null,
      "metadata": {
        "colab": {
          "base_uri": "https://localhost:8080/"
        },
        "id": "u8gelzzQX_OF",
        "outputId": "7d1b24b2-6f26-4391-a46f-7d8fc883c9bb"
      },
      "outputs": [
        {
          "output_type": "stream",
          "name": "stdout",
          "text": [
            "(100, 100, 3) [[0.99607843 0.58431373 0.3372549 ]\n",
            " [0.99607843 0.58431373 0.3372549 ]\n",
            " [0.99607843 0.58431373 0.3372549 ]\n",
            " [1.         0.58431373 0.3372549 ]\n",
            " [0.99215686 0.57647059 0.32941176]\n",
            " [0.99215686 0.57647059 0.32941176]\n",
            " [0.99215686 0.57647059 0.32941176]\n",
            " [1.         0.57254902 0.32941176]\n",
            " [0.99607843 0.56470588 0.32941176]\n",
            " [0.99607843 0.56470588 0.32941176]\n",
            " [0.99607843 0.56470588 0.32941176]\n",
            " [0.99215686 0.56078431 0.3254902 ]\n",
            " [0.99215686 0.56078431 0.3254902 ]\n",
            " [0.99215686 0.56078431 0.3254902 ]\n",
            " [0.99215686 0.56078431 0.3254902 ]\n",
            " [1.         0.56078431 0.3254902 ]\n",
            " [0.99607843 0.56470588 0.3372549 ]\n",
            " [0.99215686 0.56862745 0.34117647]\n",
            " [1.         0.57647059 0.35686275]\n",
            " [1.         0.57647059 0.35686275]\n",
            " [1.         0.57254902 0.36078431]\n",
            " [0.99607843 0.56862745 0.35686275]\n",
            " [0.99607843 0.56470588 0.36078431]\n",
            " [0.99607843 0.56470588 0.36078431]\n",
            " [0.99607843 0.56470588 0.36078431]\n",
            " [1.         0.56862745 0.36470588]\n",
            " [1.         0.56862745 0.36470588]\n",
            " [1.         0.56862745 0.36470588]\n",
            " [1.         0.56862745 0.36470588]\n",
            " [0.99607843 0.56862745 0.36470588]\n",
            " [0.99607843 0.56862745 0.36470588]\n",
            " [0.99607843 0.56862745 0.36470588]\n",
            " [1.         0.56862745 0.38039216]\n",
            " [1.         0.56862745 0.38039216]\n",
            " [1.         0.56470588 0.38431373]\n",
            " [1.         0.56470588 0.38431373]\n",
            " [0.99607843 0.56078431 0.38039216]\n",
            " [0.99607843 0.55686275 0.38823529]\n",
            " [0.99607843 0.55686275 0.38823529]\n",
            " [0.99607843 0.55686275 0.39215686]\n",
            " [0.99607843 0.56078431 0.40392157]\n",
            " [0.99607843 0.56078431 0.40392157]\n",
            " [1.         0.56470588 0.41568627]\n",
            " [1.         0.56078431 0.40392157]\n",
            " [1.         0.56078431 0.40392157]\n",
            " [1.         0.56078431 0.40392157]\n",
            " [1.         0.55686275 0.41176471]\n",
            " [1.         0.55294118 0.41176471]\n",
            " [0.99215686 0.54901961 0.41960784]\n",
            " [0.99215686 0.54901961 0.41960784]\n",
            " [0.99215686 0.54509804 0.40392157]\n",
            " [0.99215686 0.54509804 0.4       ]\n",
            " [0.99215686 0.54509804 0.4       ]\n",
            " [0.99215686 0.54509804 0.4       ]\n",
            " [0.99607843 0.54901961 0.40392157]\n",
            " [0.99607843 0.54901961 0.40392157]\n",
            " [0.99607843 0.54901961 0.40392157]\n",
            " [0.99607843 0.54117647 0.40392157]\n",
            " [0.99607843 0.54117647 0.40392157]\n",
            " [0.99607843 0.54509804 0.4       ]\n",
            " [0.99607843 0.54901961 0.39215686]\n",
            " [0.99607843 0.55294118 0.39607843]\n",
            " [0.99607843 0.55686275 0.39215686]\n",
            " [1.         0.56078431 0.39607843]\n",
            " [1.         0.56862745 0.40392157]\n",
            " [0.99607843 0.56470588 0.4       ]\n",
            " [0.99215686 0.56078431 0.39607843]\n",
            " [0.99215686 0.56078431 0.39607843]\n",
            " [0.99215686 0.56078431 0.39607843]\n",
            " [0.99215686 0.56078431 0.39607843]\n",
            " [0.99215686 0.56078431 0.39607843]\n",
            " [1.         0.56078431 0.39607843]\n",
            " [1.         0.54117647 0.37647059]\n",
            " [0.98823529 0.5254902  0.36078431]\n",
            " [0.98823529 0.51764706 0.35294118]\n",
            " [0.97647059 0.50196078 0.3372549 ]\n",
            " [0.98039216 0.49411765 0.33333333]\n",
            " [0.98039216 0.49411765 0.33333333]\n",
            " [0.96862745 0.49411765 0.32941176]\n",
            " [0.94901961 0.49803922 0.32156863]\n",
            " [0.95686275 0.49803922 0.32156863]\n",
            " [0.96470588 0.49803922 0.32156863]\n",
            " [0.96078431 0.48627451 0.31372549]\n",
            " [0.96862745 0.48627451 0.31372549]\n",
            " [0.97254902 0.48235294 0.30980392]\n",
            " [0.97647059 0.47843137 0.30196078]\n",
            " [0.96470588 0.4627451  0.27058824]\n",
            " [0.95294118 0.45098039 0.25882353]\n",
            " [0.95294118 0.43921569 0.24705882]\n",
            " [0.96078431 0.43529412 0.24705882]\n",
            " [0.96470588 0.43137255 0.24313725]\n",
            " [0.96078431 0.42745098 0.23921569]\n",
            " [0.94509804 0.41960784 0.23137255]\n",
            " [0.93333333 0.43137255 0.23137255]\n",
            " [0.9372549  0.42352941 0.22745098]\n",
            " [0.93333333 0.41960784 0.22352941]\n",
            " [0.94117647 0.41960784 0.22352941]\n",
            " [0.94509804 0.41568627 0.21960784]\n",
            " [0.94509804 0.40784314 0.21568627]\n",
            " [0.9372549  0.4        0.20784314]]\n"
          ]
        }
      ],
      "source": [
        "x=x/255\n",
        "print(x[0].shape, x[0][1])"
      ]
    },
    {
      "cell_type": "code",
      "execution_count": null,
      "metadata": {
        "id": "zn1oLEq1Q4bm"
      },
      "outputs": [],
      "source": [
        "X_train, X_val, y_train, y_val = train_test_split(x,y,test_size=0.2, random_state = 432)\n"
      ]
    },
    {
      "cell_type": "code",
      "execution_count": null,
      "metadata": {
        "id": "aOg1C5fjQ9aN"
      },
      "outputs": [],
      "source": [
        "cnn = tf.keras.models.Sequential([\n",
        "tf.keras.layers.Conv2D(filters=64, kernel_size=(3, 3), activation='relu', input_shape=(image_size, image_size, 3)),\n",
        "tf.keras.layers.MaxPooling2D((2, 2)),\n",
        "\n",
        "tf.keras.layers.Conv2D(filters=44, kernel_size=(3, 3), activation='relu'),\n",
        "tf.keras.layers.MaxPooling2D((2, 2)),\n",
        "\n",
        "# tf.keras.layers.Flatten(input_shape=(100, 100, 1)),\n",
        "tf.keras.layers.Flatten(),\n",
        "tf.keras.layers.Dense(72, activation='tanh'),\n",
        "tf.keras.layers.Dense(32, activation='relu'),\n",
        "tf.keras.layers.Dense(5, activation='softmax')\n",
        "])\n"
      ]
    },
    {
      "cell_type": "code",
      "execution_count": null,
      "metadata": {
        "id": "3vvClNZaRDH0"
      },
      "outputs": [],
      "source": [
        "cnn.compile(optimizer='Adam',\n",
        "loss='sparse_categorical_crossentropy',\n",
        "metrics=['accuracy'])"
      ]
    },
    {
      "cell_type": "code",
      "execution_count": null,
      "metadata": {
        "colab": {
          "base_uri": "https://localhost:8080/"
        },
        "id": "QUmXwxhEREMH",
        "outputId": "002673dc-2908-45b1-a263-46422b3a5c57"
      },
      "outputs": [
        {
          "output_type": "stream",
          "name": "stdout",
          "text": [
            "Epoch 1/20\n",
            "1/1 [==============================] - 20s 20s/step - loss: 0.2589 - accuracy: 0.9177\n",
            "Epoch 2/20\n",
            "1/1 [==============================] - 17s 17s/step - loss: 0.2669 - accuracy: 0.9200\n",
            "Epoch 3/20\n",
            "1/1 [==============================] - 17s 17s/step - loss: 0.2378 - accuracy: 0.9320\n",
            "Epoch 4/20\n",
            "1/1 [==============================] - 24s 24s/step - loss: 0.2435 - accuracy: 0.9189\n",
            "Epoch 5/20\n",
            "1/1 [==============================] - 17s 17s/step - loss: 0.2235 - accuracy: 0.9463\n",
            "Epoch 6/20\n",
            "1/1 [==============================] - 17s 17s/step - loss: 0.2271 - accuracy: 0.9439\n",
            "Epoch 7/20\n",
            "1/1 [==============================] - 17s 17s/step - loss: 0.2119 - accuracy: 0.9391\n",
            "Epoch 8/20\n",
            "1/1 [==============================] - 17s 17s/step - loss: 0.2100 - accuracy: 0.9391\n",
            "Epoch 9/20\n",
            "1/1 [==============================] - 17s 17s/step - loss: 0.2023 - accuracy: 0.9535\n",
            "Epoch 10/20\n",
            "1/1 [==============================] - 17s 17s/step - loss: 0.1919 - accuracy: 0.9547\n",
            "Epoch 11/20\n",
            "1/1 [==============================] - 17s 17s/step - loss: 0.1932 - accuracy: 0.9427\n",
            "Epoch 12/20\n",
            "1/1 [==============================] - 17s 17s/step - loss: 0.1769 - accuracy: 0.9558\n",
            "Epoch 13/20\n",
            "1/1 [==============================] - 17s 17s/step - loss: 0.1813 - accuracy: 0.9570\n",
            "Epoch 14/20\n",
            "1/1 [==============================] - 19s 19s/step - loss: 0.1736 - accuracy: 0.9523\n",
            "Epoch 15/20\n",
            "1/1 [==============================] - 17s 17s/step - loss: 0.1718 - accuracy: 0.9570\n",
            "Epoch 16/20\n",
            "1/1 [==============================] - 17s 17s/step - loss: 0.1743 - accuracy: 0.9582\n",
            "Epoch 17/20\n",
            "1/1 [==============================] - 18s 18s/step - loss: 0.1567 - accuracy: 0.9618\n",
            "Epoch 18/20\n",
            "1/1 [==============================] - 17s 17s/step - loss: 0.1612 - accuracy: 0.9606\n",
            "Epoch 19/20\n",
            "1/1 [==============================] - 18s 18s/step - loss: 0.1418 - accuracy: 0.9702\n",
            "Epoch 20/20\n",
            "1/1 [==============================] - 17s 17s/step - loss: 0.1520 - accuracy: 0.9618\n"
          ]
        },
        {
          "output_type": "execute_result",
          "data": {
            "text/plain": [
              "<keras.callbacks.History at 0x7f9691a13110>"
            ]
          },
          "metadata": {},
          "execution_count": 27
        }
      ],
      "source": [
        "cnn.fit(X_train, y_train, epochs=20, batch_size=1048)\n"
      ]
    },
    {
      "cell_type": "code",
      "execution_count": null,
      "metadata": {
        "colab": {
          "base_uri": "https://localhost:8080/"
        },
        "id": "aTeCqgCjTlbm",
        "outputId": "55506f1c-58f9-4362-c6e5-a43e03383860"
      },
      "outputs": [
        {
          "output_type": "stream",
          "name": "stdout",
          "text": [
            "7/7 [==============================] - 1s 194ms/step - loss: 0.4868 - accuracy: 0.8143\n"
          ]
        },
        {
          "output_type": "execute_result",
          "data": {
            "text/plain": [
              "[0.48679566383361816, 0.8142856955528259]"
            ]
          },
          "metadata": {},
          "execution_count": 28
        }
      ],
      "source": [
        "cnn.evaluate(X_val, y_val)\n"
      ]
    },
    {
      "cell_type": "code",
      "execution_count": null,
      "metadata": {
        "colab": {
          "base_uri": "https://localhost:8080/",
          "height": 73,
          "resources": {
            "http://localhost:8080/nbextensions/google.colab/files.js": {
              "data": "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",
              "headers": [
                [
                  "content-type",
                  "application/javascript"
                ]
              ],
              "ok": true,
              "status": 200,
              "status_text": ""
            }
          }
        },
        "id": "_bZIMxvWTmNr",
        "outputId": "f139b4f7-13d6-4445-b729-f743bdea5b78"
      },
      "outputs": [
        {
          "output_type": "display_data",
          "data": {
            "text/plain": [
              "<IPython.core.display.HTML object>"
            ],
            "text/html": [
              "\n",
              "     <input type=\"file\" id=\"files-702c2f2e-5d4d-4896-89f7-f898b676a27a\" name=\"files[]\" multiple disabled\n",
              "        style=\"border:none\" />\n",
              "     <output id=\"result-702c2f2e-5d4d-4896-89f7-f898b676a27a\">\n",
              "      Upload widget is only available when the cell has been executed in the\n",
              "      current browser session. Please rerun this cell to enable.\n",
              "      </output>\n",
              "      <script src=\"/nbextensions/google.colab/files.js\"></script> "
            ]
          },
          "metadata": {}
        },
        {
          "output_type": "stream",
          "name": "stdout",
          "text": [
            "Saving Testing_set.csv to Testing_set.csv\n"
          ]
        }
      ],
      "source": [
        "from google.colab import files\n",
        "uploaded = files.upload()\n",
        "\n"
      ]
    },
    {
      "cell_type": "code",
      "execution_count": null,
      "metadata": {
        "colab": {
          "base_uri": "https://localhost:8080/",
          "height": 206
        },
        "id": "Cd8bNOS8UQul",
        "outputId": "043748de-5a8b-4f91-f0b6-c77954a06e73"
      },
      "outputs": [
        {
          "output_type": "execute_result",
          "data": {
            "text/plain": [
              "      filename\n",
              "0  Image_1.jpg\n",
              "1  Image_2.jpg\n",
              "2  Image_3.jpg\n",
              "3  Image_4.jpg\n",
              "4  Image_5.jpg"
            ],
            "text/html": [
              "\n",
              "  <div id=\"df-88d44704-cd1a-4dd7-8ee5-b410a58c0aec\">\n",
              "    <div class=\"colab-df-container\">\n",
              "      <div>\n",
              "<style scoped>\n",
              "    .dataframe tbody tr th:only-of-type {\n",
              "        vertical-align: middle;\n",
              "    }\n",
              "\n",
              "    .dataframe tbody tr th {\n",
              "        vertical-align: top;\n",
              "    }\n",
              "\n",
              "    .dataframe thead th {\n",
              "        text-align: right;\n",
              "    }\n",
              "</style>\n",
              "<table border=\"1\" class=\"dataframe\">\n",
              "  <thead>\n",
              "    <tr style=\"text-align: right;\">\n",
              "      <th></th>\n",
              "      <th>filename</th>\n",
              "    </tr>\n",
              "  </thead>\n",
              "  <tbody>\n",
              "    <tr>\n",
              "      <th>0</th>\n",
              "      <td>Image_1.jpg</td>\n",
              "    </tr>\n",
              "    <tr>\n",
              "      <th>1</th>\n",
              "      <td>Image_2.jpg</td>\n",
              "    </tr>\n",
              "    <tr>\n",
              "      <th>2</th>\n",
              "      <td>Image_3.jpg</td>\n",
              "    </tr>\n",
              "    <tr>\n",
              "      <th>3</th>\n",
              "      <td>Image_4.jpg</td>\n",
              "    </tr>\n",
              "    <tr>\n",
              "      <th>4</th>\n",
              "      <td>Image_5.jpg</td>\n",
              "    </tr>\n",
              "  </tbody>\n",
              "</table>\n",
              "</div>\n",
              "      <button class=\"colab-df-convert\" onclick=\"convertToInteractive('df-88d44704-cd1a-4dd7-8ee5-b410a58c0aec')\"\n",
              "              title=\"Convert this dataframe to an interactive table.\"\n",
              "              style=\"display:none;\">\n",
              "        \n",
              "  <svg xmlns=\"http://www.w3.org/2000/svg\" height=\"24px\"viewBox=\"0 0 24 24\"\n",
              "       width=\"24px\">\n",
              "    <path d=\"M0 0h24v24H0V0z\" fill=\"none\"/>\n",
              "    <path d=\"M18.56 5.44l.94 2.06.94-2.06 2.06-.94-2.06-.94-.94-2.06-.94 2.06-2.06.94zm-11 1L8.5 8.5l.94-2.06 2.06-.94-2.06-.94L8.5 2.5l-.94 2.06-2.06.94zm10 10l.94 2.06.94-2.06 2.06-.94-2.06-.94-.94-2.06-.94 2.06-2.06.94z\"/><path d=\"M17.41 7.96l-1.37-1.37c-.4-.4-.92-.59-1.43-.59-.52 0-1.04.2-1.43.59L10.3 9.45l-7.72 7.72c-.78.78-.78 2.05 0 2.83L4 21.41c.39.39.9.59 1.41.59.51 0 1.02-.2 1.41-.59l7.78-7.78 2.81-2.81c.8-.78.8-2.07 0-2.86zM5.41 20L4 18.59l7.72-7.72 1.47 1.35L5.41 20z\"/>\n",
              "  </svg>\n",
              "      </button>\n",
              "      \n",
              "  <style>\n",
              "    .colab-df-container {\n",
              "      display:flex;\n",
              "      flex-wrap:wrap;\n",
              "      gap: 12px;\n",
              "    }\n",
              "\n",
              "    .colab-df-convert {\n",
              "      background-color: #E8F0FE;\n",
              "      border: none;\n",
              "      border-radius: 50%;\n",
              "      cursor: pointer;\n",
              "      display: none;\n",
              "      fill: #1967D2;\n",
              "      height: 32px;\n",
              "      padding: 0 0 0 0;\n",
              "      width: 32px;\n",
              "    }\n",
              "\n",
              "    .colab-df-convert:hover {\n",
              "      background-color: #E2EBFA;\n",
              "      box-shadow: 0px 1px 2px rgba(60, 64, 67, 0.3), 0px 1px 3px 1px rgba(60, 64, 67, 0.15);\n",
              "      fill: #174EA6;\n",
              "    }\n",
              "\n",
              "    [theme=dark] .colab-df-convert {\n",
              "      background-color: #3B4455;\n",
              "      fill: #D2E3FC;\n",
              "    }\n",
              "\n",
              "    [theme=dark] .colab-df-convert:hover {\n",
              "      background-color: #434B5C;\n",
              "      box-shadow: 0px 1px 3px 1px rgba(0, 0, 0, 0.15);\n",
              "      filter: drop-shadow(0px 1px 2px rgba(0, 0, 0, 0.3));\n",
              "      fill: #FFFFFF;\n",
              "    }\n",
              "  </style>\n",
              "\n",
              "      <script>\n",
              "        const buttonEl =\n",
              "          document.querySelector('#df-88d44704-cd1a-4dd7-8ee5-b410a58c0aec button.colab-df-convert');\n",
              "        buttonEl.style.display =\n",
              "          google.colab.kernel.accessAllowed ? 'block' : 'none';\n",
              "\n",
              "        async function convertToInteractive(key) {\n",
              "          const element = document.querySelector('#df-88d44704-cd1a-4dd7-8ee5-b410a58c0aec');\n",
              "          const dataTable =\n",
              "            await google.colab.kernel.invokeFunction('convertToInteractive',\n",
              "                                                     [key], {});\n",
              "          if (!dataTable) return;\n",
              "\n",
              "          const docLinkHtml = 'Like what you see? Visit the ' +\n",
              "            '<a target=\"_blank\" href=https://colab.research.google.com/notebooks/data_table.ipynb>data table notebook</a>'\n",
              "            + ' to learn more about interactive tables.';\n",
              "          element.innerHTML = '';\n",
              "          dataTable['output_type'] = 'display_data';\n",
              "          await google.colab.output.renderOutput(dataTable, element);\n",
              "          const docLink = document.createElement('div');\n",
              "          docLink.innerHTML = docLinkHtml;\n",
              "          element.appendChild(docLink);\n",
              "        }\n",
              "      </script>\n",
              "    </div>\n",
              "  </div>\n",
              "  "
            ]
          },
          "metadata": {},
          "execution_count": 30
        }
      ],
      "source": [
        "import io\n",
        "test_image_order = pd.read_csv(io.BytesIO(uploaded['Testing_set.csv']))\n",
        "test_image_order.head()"
      ]
    },
    {
      "cell_type": "code",
      "execution_count": null,
      "metadata": {
        "id": "ddZtB2IqUeZf"
      },
      "outputs": [],
      "source": [
        "file_paths = [[fname, '/content/drive/MyDrive/dphi_data/testdata/' + fname] for fname in test_image_order['filename']]\n"
      ]
    },
    {
      "cell_type": "code",
      "execution_count": null,
      "metadata": {
        "colab": {
          "base_uri": "https://localhost:8080/"
        },
        "id": "1QoxOxD3Uf3w",
        "outputId": "305574c4-7a19-4a06-ba77-04dfa803d2cc"
      },
      "outputs": [
        {
          "output_type": "stream",
          "name": "stdout",
          "text": [
            "Number of image names i.e.  450 matches the number of file paths i.e.  450\n"
          ]
        }
      ],
      "source": [
        "# Confirm if number of images is same as number of labels given\n",
        "if len(test_image_order) == len(file_paths):\n",
        "  print('Number of image names i.e. ', len(test_image_order), 'matches the number of file paths i.e. ', len(file_paths))\n",
        "else:\n",
        "  print('Number of image names does not match the number of filepaths')\n"
      ]
    },
    {
      "cell_type": "code",
      "execution_count": null,
      "metadata": {
        "colab": {
          "base_uri": "https://localhost:8080/",
          "height": 206
        },
        "id": "G4wPQKRLUllf",
        "outputId": "65de622e-7df8-4f8d-d1eb-8b36af1e8a1b"
      },
      "outputs": [
        {
          "output_type": "execute_result",
          "data": {
            "text/plain": [
              "      filename                                          filepaths\n",
              "0  Image_1.jpg  /content/drive/MyDrive/dphi_data/testdata/Imag...\n",
              "1  Image_2.jpg  /content/drive/MyDrive/dphi_data/testdata/Imag...\n",
              "2  Image_3.jpg  /content/drive/MyDrive/dphi_data/testdata/Imag...\n",
              "3  Image_4.jpg  /content/drive/MyDrive/dphi_data/testdata/Imag...\n",
              "4  Image_5.jpg  /content/drive/MyDrive/dphi_data/testdata/Imag..."
            ],
            "text/html": [
              "\n",
              "  <div id=\"df-9188064e-680d-4906-a42d-b40720d4adb4\">\n",
              "    <div class=\"colab-df-container\">\n",
              "      <div>\n",
              "<style scoped>\n",
              "    .dataframe tbody tr th:only-of-type {\n",
              "        vertical-align: middle;\n",
              "    }\n",
              "\n",
              "    .dataframe tbody tr th {\n",
              "        vertical-align: top;\n",
              "    }\n",
              "\n",
              "    .dataframe thead th {\n",
              "        text-align: right;\n",
              "    }\n",
              "</style>\n",
              "<table border=\"1\" class=\"dataframe\">\n",
              "  <thead>\n",
              "    <tr style=\"text-align: right;\">\n",
              "      <th></th>\n",
              "      <th>filename</th>\n",
              "      <th>filepaths</th>\n",
              "    </tr>\n",
              "  </thead>\n",
              "  <tbody>\n",
              "    <tr>\n",
              "      <th>0</th>\n",
              "      <td>Image_1.jpg</td>\n",
              "      <td>/content/drive/MyDrive/dphi_data/testdata/Imag...</td>\n",
              "    </tr>\n",
              "    <tr>\n",
              "      <th>1</th>\n",
              "      <td>Image_2.jpg</td>\n",
              "      <td>/content/drive/MyDrive/dphi_data/testdata/Imag...</td>\n",
              "    </tr>\n",
              "    <tr>\n",
              "      <th>2</th>\n",
              "      <td>Image_3.jpg</td>\n",
              "      <td>/content/drive/MyDrive/dphi_data/testdata/Imag...</td>\n",
              "    </tr>\n",
              "    <tr>\n",
              "      <th>3</th>\n",
              "      <td>Image_4.jpg</td>\n",
              "      <td>/content/drive/MyDrive/dphi_data/testdata/Imag...</td>\n",
              "    </tr>\n",
              "    <tr>\n",
              "      <th>4</th>\n",
              "      <td>Image_5.jpg</td>\n",
              "      <td>/content/drive/MyDrive/dphi_data/testdata/Imag...</td>\n",
              "    </tr>\n",
              "  </tbody>\n",
              "</table>\n",
              "</div>\n",
              "      <button class=\"colab-df-convert\" onclick=\"convertToInteractive('df-9188064e-680d-4906-a42d-b40720d4adb4')\"\n",
              "              title=\"Convert this dataframe to an interactive table.\"\n",
              "              style=\"display:none;\">\n",
              "        \n",
              "  <svg xmlns=\"http://www.w3.org/2000/svg\" height=\"24px\"viewBox=\"0 0 24 24\"\n",
              "       width=\"24px\">\n",
              "    <path d=\"M0 0h24v24H0V0z\" fill=\"none\"/>\n",
              "    <path d=\"M18.56 5.44l.94 2.06.94-2.06 2.06-.94-2.06-.94-.94-2.06-.94 2.06-2.06.94zm-11 1L8.5 8.5l.94-2.06 2.06-.94-2.06-.94L8.5 2.5l-.94 2.06-2.06.94zm10 10l.94 2.06.94-2.06 2.06-.94-2.06-.94-.94-2.06-.94 2.06-2.06.94z\"/><path d=\"M17.41 7.96l-1.37-1.37c-.4-.4-.92-.59-1.43-.59-.52 0-1.04.2-1.43.59L10.3 9.45l-7.72 7.72c-.78.78-.78 2.05 0 2.83L4 21.41c.39.39.9.59 1.41.59.51 0 1.02-.2 1.41-.59l7.78-7.78 2.81-2.81c.8-.78.8-2.07 0-2.86zM5.41 20L4 18.59l7.72-7.72 1.47 1.35L5.41 20z\"/>\n",
              "  </svg>\n",
              "      </button>\n",
              "      \n",
              "  <style>\n",
              "    .colab-df-container {\n",
              "      display:flex;\n",
              "      flex-wrap:wrap;\n",
              "      gap: 12px;\n",
              "    }\n",
              "\n",
              "    .colab-df-convert {\n",
              "      background-color: #E8F0FE;\n",
              "      border: none;\n",
              "      border-radius: 50%;\n",
              "      cursor: pointer;\n",
              "      display: none;\n",
              "      fill: #1967D2;\n",
              "      height: 32px;\n",
              "      padding: 0 0 0 0;\n",
              "      width: 32px;\n",
              "    }\n",
              "\n",
              "    .colab-df-convert:hover {\n",
              "      background-color: #E2EBFA;\n",
              "      box-shadow: 0px 1px 2px rgba(60, 64, 67, 0.3), 0px 1px 3px 1px rgba(60, 64, 67, 0.15);\n",
              "      fill: #174EA6;\n",
              "    }\n",
              "\n",
              "    [theme=dark] .colab-df-convert {\n",
              "      background-color: #3B4455;\n",
              "      fill: #D2E3FC;\n",
              "    }\n",
              "\n",
              "    [theme=dark] .colab-df-convert:hover {\n",
              "      background-color: #434B5C;\n",
              "      box-shadow: 0px 1px 3px 1px rgba(0, 0, 0, 0.15);\n",
              "      filter: drop-shadow(0px 1px 2px rgba(0, 0, 0, 0.3));\n",
              "      fill: #FFFFFF;\n",
              "    }\n",
              "  </style>\n",
              "\n",
              "      <script>\n",
              "        const buttonEl =\n",
              "          document.querySelector('#df-9188064e-680d-4906-a42d-b40720d4adb4 button.colab-df-convert');\n",
              "        buttonEl.style.display =\n",
              "          google.colab.kernel.accessAllowed ? 'block' : 'none';\n",
              "\n",
              "        async function convertToInteractive(key) {\n",
              "          const element = document.querySelector('#df-9188064e-680d-4906-a42d-b40720d4adb4');\n",
              "          const dataTable =\n",
              "            await google.colab.kernel.invokeFunction('convertToInteractive',\n",
              "                                                     [key], {});\n",
              "          if (!dataTable) return;\n",
              "\n",
              "          const docLinkHtml = 'Like what you see? Visit the ' +\n",
              "            '<a target=\"_blank\" href=https://colab.research.google.com/notebooks/data_table.ipynb>data table notebook</a>'\n",
              "            + ' to learn more about interactive tables.';\n",
              "          element.innerHTML = '';\n",
              "          dataTable['output_type'] = 'display_data';\n",
              "          await google.colab.output.renderOutput(dataTable, element);\n",
              "          const docLink = document.createElement('div');\n",
              "          docLink.innerHTML = docLinkHtml;\n",
              "          element.appendChild(docLink);\n",
              "        }\n",
              "      </script>\n",
              "    </div>\n",
              "  </div>\n",
              "  "
            ]
          },
          "metadata": {},
          "execution_count": 33
        }
      ],
      "source": [
        "test_images = pd.DataFrame(file_paths, columns=['filename', 'filepaths'])\n",
        "test_images.head()"
      ]
    },
    {
      "cell_type": "code",
      "execution_count": null,
      "metadata": {
        "id": "EPMlcYJQUsKb"
      },
      "outputs": [],
      "source": [
        "test_pixel_data = [] # initialize an empty numpy array\n",
        "image_size = 50 # image size taken is 100 here. one can take other size too\n",
        "for i in range(len(test_images)):\n",
        "\n",
        "  img_array = cv2.imread(test_images['filepaths'][i]) # converting the image to gray scale\n",
        "\n",
        "  new_img_array = cv2.resize(img_array, (image_size, image_size), interpolation = cv2.INTER_NEAREST) # resizing the image array\n",
        "\n",
        "  test_pixel_data.append(new_img_array)"
      ]
    },
    {
      "cell_type": "code",
      "execution_count": null,
      "metadata": {
        "id": "OrQaJxutWu9g"
      },
      "outputs": [],
      "source": [
        "test_pixel_data = np.array(test_pixel_data)\n"
      ]
    },
    {
      "cell_type": "code",
      "execution_count": null,
      "metadata": {
        "colab": {
          "base_uri": "https://localhost:8080/"
        },
        "id": "htObOOPWWx3r",
        "outputId": "6b774625-9056-42f6-8c92-d50157153b75"
      },
      "outputs": [
        {
          "output_type": "execute_result",
          "data": {
            "text/plain": [
              "array([[[[0.05882353, 0.04705882, 0.01568627],\n",
              "         [0.06666667, 0.04313725, 0.02352941],\n",
              "         [0.0627451 , 0.03529412, 0.02352941],\n",
              "         ...,\n",
              "         [0.03137255, 0.02352941, 0.01960784],\n",
              "         [0.19607843, 0.16862745, 0.07058824],\n",
              "         [0.03921569, 0.03137255, 0.02745098]],\n",
              "\n",
              "        [[0.0745098 , 0.04313725, 0.01568627],\n",
              "         [0.08627451, 0.05490196, 0.02745098],\n",
              "         [0.09019608, 0.04705882, 0.03137255],\n",
              "         ...,\n",
              "         [0.02745098, 0.01960784, 0.01568627],\n",
              "         [0.18823529, 0.16078431, 0.08627451],\n",
              "         [0.03921569, 0.03137255, 0.03137255]],\n",
              "\n",
              "        [[0.14901961, 0.08627451, 0.02352941],\n",
              "         [0.15686275, 0.09411765, 0.04313725],\n",
              "         [0.14117647, 0.0745098 , 0.02352941],\n",
              "         ...,\n",
              "         [0.04705882, 0.03137255, 0.02745098],\n",
              "         [0.03137255, 0.02352941, 0.02352941],\n",
              "         [0.03137255, 0.02352941, 0.02352941]],\n",
              "\n",
              "        ...,\n",
              "\n",
              "        [[0.09803922, 0.25098039, 0.37647059],\n",
              "         [0.10588235, 0.08627451, 0.09019608],\n",
              "         [0.06666667, 0.05882353, 0.10588235],\n",
              "         ...,\n",
              "         [0.08235294, 0.06666667, 0.04705882],\n",
              "         [0.03137255, 0.02352941, 0.02352941],\n",
              "         [0.03921569, 0.03137255, 0.02745098]],\n",
              "\n",
              "        [[0.17647059, 0.25882353, 0.31764706],\n",
              "         [0.32941176, 0.25490196, 0.1254902 ],\n",
              "         [0.16470588, 0.21568627, 0.22352941],\n",
              "         ...,\n",
              "         [0.01960784, 0.01960784, 0.01960784],\n",
              "         [0.01960784, 0.01960784, 0.01960784],\n",
              "         [0.02352941, 0.02352941, 0.02352941]],\n",
              "\n",
              "        [[0.24313725, 0.27843137, 0.31764706],\n",
              "         [0.30980392, 0.25098039, 0.12156863],\n",
              "         [0.00392157, 0.00392157, 0.00392157],\n",
              "         ...,\n",
              "         [0.03921569, 0.03137255, 0.03137255],\n",
              "         [0.03137255, 0.02352941, 0.02352941],\n",
              "         [0.02745098, 0.01960784, 0.01960784]]],\n",
              "\n",
              "\n",
              "       [[[0.15294118, 0.15294118, 0.12941176],\n",
              "         [0.18823529, 0.19215686, 0.15686275],\n",
              "         [0.83137255, 0.79607843, 0.74117647],\n",
              "         ...,\n",
              "         [0.42745098, 0.37254902, 0.28235294],\n",
              "         [0.71764706, 0.6627451 , 0.57254902],\n",
              "         [0.79607843, 0.75686275, 0.6627451 ]],\n",
              "\n",
              "        [[0.18823529, 0.18823529, 0.16470588],\n",
              "         [0.12941176, 0.1372549 , 0.11372549],\n",
              "         [0.25882353, 0.25098039, 0.21176471],\n",
              "         ...,\n",
              "         [0.50196078, 0.45490196, 0.38431373],\n",
              "         [0.51764706, 0.45098039, 0.36862745],\n",
              "         [0.88627451, 0.83137255, 0.74117647]],\n",
              "\n",
              "        [[0.21176471, 0.22745098, 0.20784314],\n",
              "         [0.51764706, 0.5254902 , 0.50196078],\n",
              "         [0.16862745, 0.16470588, 0.1254902 ],\n",
              "         ...,\n",
              "         [0.72941176, 0.6745098 , 0.6       ],\n",
              "         [0.80784314, 0.75294118, 0.68235294],\n",
              "         [0.41176471, 0.36862745, 0.29019608]],\n",
              "\n",
              "        ...,\n",
              "\n",
              "        [[0.10980392, 0.12156863, 0.11372549],\n",
              "         [0.10196078, 0.11372549, 0.10588235],\n",
              "         [0.1254902 , 0.1372549 , 0.12941176],\n",
              "         ...,\n",
              "         [0.11372549, 0.14117647, 0.12941176],\n",
              "         [0.11372549, 0.13333333, 0.1254902 ],\n",
              "         [0.10980392, 0.12156863, 0.11372549]],\n",
              "\n",
              "        [[0.09803922, 0.10980392, 0.10196078],\n",
              "         [0.09019608, 0.10196078, 0.09411765],\n",
              "         [0.09411765, 0.10588235, 0.09803922],\n",
              "         ...,\n",
              "         [0.09019608, 0.11764706, 0.10588235],\n",
              "         [0.09019608, 0.10980392, 0.10196078],\n",
              "         [0.10588235, 0.11764706, 0.10980392]],\n",
              "\n",
              "        [[0.09019608, 0.09411765, 0.08627451],\n",
              "         [0.08235294, 0.08627451, 0.07843137],\n",
              "         [0.10588235, 0.11764706, 0.10980392],\n",
              "         ...,\n",
              "         [0.10588235, 0.11764706, 0.10980392],\n",
              "         [0.1254902 , 0.1372549 , 0.12941176],\n",
              "         [0.10980392, 0.12156863, 0.11372549]]],\n",
              "\n",
              "\n",
              "       [[[0.27843137, 0.27843137, 0.27843137],\n",
              "         [0.29411765, 0.29411765, 0.29411765],\n",
              "         [0.30588235, 0.30588235, 0.30588235],\n",
              "         ...,\n",
              "         [0.37647059, 0.37647059, 0.37647059],\n",
              "         [0.35686275, 0.35686275, 0.35686275],\n",
              "         [0.34509804, 0.34509804, 0.34509804]],\n",
              "\n",
              "        [[0.28627451, 0.28627451, 0.28627451],\n",
              "         [0.29803922, 0.29803922, 0.29803922],\n",
              "         [0.30980392, 0.30980392, 0.30980392],\n",
              "         ...,\n",
              "         [0.38039216, 0.38039216, 0.38039216],\n",
              "         [0.36078431, 0.36078431, 0.36078431],\n",
              "         [0.34509804, 0.34509804, 0.34509804]],\n",
              "\n",
              "        [[0.29411765, 0.29411765, 0.29411765],\n",
              "         [0.30588235, 0.30588235, 0.30588235],\n",
              "         [0.31372549, 0.31372549, 0.31372549],\n",
              "         ...,\n",
              "         [0.38039216, 0.38039216, 0.38039216],\n",
              "         [0.36078431, 0.36078431, 0.36078431],\n",
              "         [0.34509804, 0.34509804, 0.34509804]],\n",
              "\n",
              "        ...,\n",
              "\n",
              "        [[0.03529412, 0.03529412, 0.03529412],\n",
              "         [0.12156863, 0.12156863, 0.12156863],\n",
              "         [0.12156863, 0.12156863, 0.12156863],\n",
              "         ...,\n",
              "         [0.01960784, 0.01960784, 0.01960784],\n",
              "         [0.01960784, 0.01960784, 0.01960784],\n",
              "         [0.02352941, 0.02352941, 0.02352941]],\n",
              "\n",
              "        [[0.0745098 , 0.0745098 , 0.0745098 ],\n",
              "         [0.10588235, 0.10588235, 0.10588235],\n",
              "         [0.07843137, 0.07843137, 0.07843137],\n",
              "         ...,\n",
              "         [0.02745098, 0.02745098, 0.02745098],\n",
              "         [0.01568627, 0.01568627, 0.01568627],\n",
              "         [0.02745098, 0.02745098, 0.02745098]],\n",
              "\n",
              "        [[0.05098039, 0.05098039, 0.05098039],\n",
              "         [0.0745098 , 0.0745098 , 0.0745098 ],\n",
              "         [0.04705882, 0.04705882, 0.04705882],\n",
              "         ...,\n",
              "         [0.02745098, 0.02745098, 0.02745098],\n",
              "         [0.01568627, 0.01568627, 0.01568627],\n",
              "         [0.01960784, 0.01960784, 0.01960784]]],\n",
              "\n",
              "\n",
              "       ...,\n",
              "\n",
              "\n",
              "       [[[0.98039216, 0.97254902, 0.96862745],\n",
              "         [0.98039216, 0.97254902, 0.96862745],\n",
              "         [0.98039216, 0.97254902, 0.96862745],\n",
              "         ...,\n",
              "         [0.95294118, 0.96470588, 0.95686275],\n",
              "         [0.82352941, 0.81960784, 0.83529412],\n",
              "         [0.85882353, 0.88627451, 0.89803922]],\n",
              "\n",
              "        [[0.97647059, 0.96862745, 0.96470588],\n",
              "         [0.97647059, 0.96862745, 0.96470588],\n",
              "         [0.97647059, 0.96862745, 0.96470588],\n",
              "         ...,\n",
              "         [0.81960784, 0.84313725, 0.87058824],\n",
              "         [0.94117647, 0.96470588, 0.98431373],\n",
              "         [0.81960784, 0.83921569, 0.85098039]],\n",
              "\n",
              "        [[0.97647059, 0.96862745, 0.96470588],\n",
              "         [0.97647059, 0.96862745, 0.96470588],\n",
              "         [0.97647059, 0.96862745, 0.96470588],\n",
              "         ...,\n",
              "         [0.92156863, 0.96078431, 0.98823529],\n",
              "         [0.97254902, 0.96862745, 0.97647059],\n",
              "         [0.88235294, 0.90196078, 0.91372549]],\n",
              "\n",
              "        ...,\n",
              "\n",
              "        [[0.40392157, 0.40392157, 0.34117647],\n",
              "         [0.55686275, 0.55294118, 0.49803922],\n",
              "         [0.50588235, 0.50196078, 0.44705882],\n",
              "         ...,\n",
              "         [0.21176471, 0.21960784, 0.14509804],\n",
              "         [0.21568627, 0.20392157, 0.14509804],\n",
              "         [0.21960784, 0.23137255, 0.17254902]],\n",
              "\n",
              "        [[0.56862745, 0.55294118, 0.48235294],\n",
              "         [0.37254902, 0.36470588, 0.29411765],\n",
              "         [0.42745098, 0.41960784, 0.34901961],\n",
              "         ...,\n",
              "         [0.19607843, 0.22745098, 0.18823529],\n",
              "         [0.18431373, 0.2       , 0.15686275],\n",
              "         [0.2       , 0.21960784, 0.18431373]],\n",
              "\n",
              "        [[0.4       , 0.39215686, 0.32156863],\n",
              "         [0.43137255, 0.42352941, 0.35294118],\n",
              "         [0.50980392, 0.49411765, 0.42352941],\n",
              "         ...,\n",
              "         [0.16862745, 0.2       , 0.17254902],\n",
              "         [0.21568627, 0.24705882, 0.20784314],\n",
              "         [0.14509804, 0.16078431, 0.1372549 ]]],\n",
              "\n",
              "\n",
              "       [[[0.18039216, 0.1372549 , 0.08235294],\n",
              "         [0.18039216, 0.1372549 , 0.08235294],\n",
              "         [0.19215686, 0.14117647, 0.08627451],\n",
              "         ...,\n",
              "         [0.18823529, 0.1372549 , 0.08235294],\n",
              "         [0.17647059, 0.13333333, 0.07843137],\n",
              "         [0.18039216, 0.1372549 , 0.08235294]],\n",
              "\n",
              "        [[0.18823529, 0.1372549 , 0.08235294],\n",
              "         [0.18823529, 0.1372549 , 0.08235294],\n",
              "         [0.19215686, 0.14117647, 0.08627451],\n",
              "         ...,\n",
              "         [0.19215686, 0.14117647, 0.08627451],\n",
              "         [0.18039216, 0.1372549 , 0.08235294],\n",
              "         [0.17254902, 0.12941176, 0.0745098 ]],\n",
              "\n",
              "        [[0.19215686, 0.14117647, 0.08627451],\n",
              "         [0.19215686, 0.14117647, 0.08627451],\n",
              "         [0.19215686, 0.14117647, 0.08627451],\n",
              "         ...,\n",
              "         [0.18823529, 0.1372549 , 0.08235294],\n",
              "         [0.19215686, 0.12941176, 0.07843137],\n",
              "         [0.17647059, 0.13333333, 0.07843137]],\n",
              "\n",
              "        ...,\n",
              "\n",
              "        [[0.11764706, 0.08235294, 0.04313725],\n",
              "         [0.11764706, 0.08235294, 0.04313725],\n",
              "         [0.11764706, 0.08235294, 0.04313725],\n",
              "         ...,\n",
              "         [0.13333333, 0.09803922, 0.04705882],\n",
              "         [0.13333333, 0.09803922, 0.04705882],\n",
              "         [0.13333333, 0.09803922, 0.04705882]],\n",
              "\n",
              "        [[0.11372549, 0.07843137, 0.03921569],\n",
              "         [0.11372549, 0.07843137, 0.03921569],\n",
              "         [0.11372549, 0.07843137, 0.03921569],\n",
              "         ...,\n",
              "         [0.13333333, 0.09803922, 0.04705882],\n",
              "         [0.13333333, 0.09803922, 0.04705882],\n",
              "         [0.12941176, 0.09411765, 0.04313725]],\n",
              "\n",
              "        [[0.11372549, 0.07843137, 0.03921569],\n",
              "         [0.11372549, 0.07843137, 0.03921569],\n",
              "         [0.11372549, 0.07843137, 0.03921569],\n",
              "         ...,\n",
              "         [0.12941176, 0.09411765, 0.04313725],\n",
              "         [0.12941176, 0.09019608, 0.05098039],\n",
              "         [0.12941176, 0.09019608, 0.05098039]]],\n",
              "\n",
              "\n",
              "       [[[0.6       , 0.61176471, 0.54901961],\n",
              "         [0.60392157, 0.61568627, 0.55294118],\n",
              "         [0.59607843, 0.60784314, 0.54509804],\n",
              "         ...,\n",
              "         [0.63137255, 0.61176471, 0.52941176],\n",
              "         [0.63921569, 0.61960784, 0.5372549 ],\n",
              "         [0.65098039, 0.63529412, 0.56078431]],\n",
              "\n",
              "        [[0.61176471, 0.62352941, 0.56078431],\n",
              "         [0.61960784, 0.63137255, 0.56862745],\n",
              "         [0.61176471, 0.62352941, 0.56078431],\n",
              "         ...,\n",
              "         [0.61960784, 0.6       , 0.51764706],\n",
              "         [0.63137255, 0.61176471, 0.52941176],\n",
              "         [0.64705882, 0.63137255, 0.55686275]],\n",
              "\n",
              "        [[0.61176471, 0.62352941, 0.56078431],\n",
              "         [0.61568627, 0.62745098, 0.56470588],\n",
              "         [0.61568627, 0.62745098, 0.56470588],\n",
              "         ...,\n",
              "         [0.60784314, 0.58823529, 0.50588235],\n",
              "         [0.62352941, 0.60392157, 0.52156863],\n",
              "         [0.63529412, 0.61960784, 0.54509804]],\n",
              "\n",
              "        ...,\n",
              "\n",
              "        [[0.2627451 , 0.20784314, 0.16078431],\n",
              "         [0.25098039, 0.19607843, 0.14901961],\n",
              "         [0.25882353, 0.20392157, 0.15686275],\n",
              "         ...,\n",
              "         [0.29019608, 0.2627451 , 0.19607843],\n",
              "         [0.25882353, 0.32941176, 0.2627451 ],\n",
              "         [0.20392157, 0.27058824, 0.22745098]],\n",
              "\n",
              "        [[0.23921569, 0.20392157, 0.15294118],\n",
              "         [0.25490196, 0.21960784, 0.16862745],\n",
              "         [0.23137255, 0.19607843, 0.14509804],\n",
              "         ...,\n",
              "         [0.28627451, 0.28627451, 0.22352941],\n",
              "         [0.16862745, 0.27058824, 0.20784314],\n",
              "         [0.21960784, 0.28627451, 0.24313725]],\n",
              "\n",
              "        [[0.21960784, 0.18431373, 0.13333333],\n",
              "         [0.21960784, 0.18431373, 0.13333333],\n",
              "         [0.22352941, 0.18823529, 0.1372549 ],\n",
              "         ...,\n",
              "         [0.25490196, 0.27843137, 0.21176471],\n",
              "         [0.08235294, 0.19607843, 0.1372549 ],\n",
              "         [0.22352941, 0.29803922, 0.2627451 ]]]])"
            ]
          },
          "metadata": {},
          "execution_count": 51
        }
      ],
      "source": [
        "test_pixel_data = test_pixel_data.reshape(-1, 50, 50, 3)\n",
        "test_pixel_data=test_pixel_data/255\n",
        "test_pixel_data"
      ]
    },
    {
      "cell_type": "code",
      "execution_count": null,
      "metadata": {
        "id": "PtnQlGx0W0Jn"
      },
      "outputs": [],
      "source": [
        "pred = cnn.predict(test_pixel_data)\n"
      ]
    },
    {
      "cell_type": "code",
      "execution_count": null,
      "metadata": {
        "id": "I70g1PfwW2V7"
      },
      "outputs": [],
      "source": [
        "pred[0]\n",
        "prediction = []\n",
        "for value in pred:\n",
        "  prediction.append(np.argmax(value))"
      ]
    },
    {
      "cell_type": "code",
      "execution_count": null,
      "metadata": {
        "id": "VCIGMSHtW_Ri"
      },
      "outputs": [],
      "source": [
        "predictions = le.inverse_transform(prediction)\n"
      ]
    },
    {
      "cell_type": "code",
      "execution_count": null,
      "metadata": {
        "colab": {
          "base_uri": "https://localhost:8080/",
          "height": 17
        },
        "id": "K6ou9WTFXQYl",
        "outputId": "1268b180-749f-410e-bcae-53345c6cf823"
      },
      "outputs": [
        {
          "output_type": "display_data",
          "data": {
            "text/plain": [
              "<IPython.core.display.Javascript object>"
            ],
            "application/javascript": [
              "\n",
              "    async function download(id, filename, size) {\n",
              "      if (!google.colab.kernel.accessAllowed) {\n",
              "        return;\n",
              "      }\n",
              "      const div = document.createElement('div');\n",
              "      const label = document.createElement('label');\n",
              "      label.textContent = `Downloading \"${filename}\": `;\n",
              "      div.appendChild(label);\n",
              "      const progress = document.createElement('progress');\n",
              "      progress.max = size;\n",
              "      div.appendChild(progress);\n",
              "      document.body.appendChild(div);\n",
              "\n",
              "      const buffers = [];\n",
              "      let downloaded = 0;\n",
              "\n",
              "      const channel = await google.colab.kernel.comms.open(id);\n",
              "      // Send a message to notify the kernel that we're ready.\n",
              "      channel.send({})\n",
              "\n",
              "      for await (const message of channel.messages) {\n",
              "        // Send a message to notify the kernel that we're ready.\n",
              "        channel.send({})\n",
              "        if (message.buffers) {\n",
              "          for (const buffer of message.buffers) {\n",
              "            buffers.push(buffer);\n",
              "            downloaded += buffer.byteLength;\n",
              "            progress.value = downloaded;\n",
              "          }\n",
              "        }\n",
              "      }\n",
              "      const blob = new Blob(buffers, {type: 'application/binary'});\n",
              "      const a = document.createElement('a');\n",
              "      a.href = window.URL.createObjectURL(blob);\n",
              "      a.download = filename;\n",
              "      div.appendChild(a);\n",
              "      a.click();\n",
              "      div.remove();\n",
              "    }\n",
              "  "
            ]
          },
          "metadata": {}
        },
        {
          "output_type": "display_data",
          "data": {
            "text/plain": [
              "<IPython.core.display.Javascript object>"
            ],
            "application/javascript": [
              "download(\"download_1d46545a-affa-40b3-87ba-ad9399c6ab0f\", \"submission.csv\", 9208)"
            ]
          },
          "metadata": {}
        }
      ],
      "source": [
        "res = pd.DataFrame({'filename': test_images['filename'], 'label': predictions}) # prediction is nothing but the final predictions of your model on input features of your new unseen test data\n",
        "res.to_csv(\"submission.csv\", index = False)\n",
        "\n",
        "# To download the csv file locally\n",
        "from google.colab import files\n",
        "files.download('submission.csv')"
      ]
    }
  ],
  "metadata": {
    "colab": {
      "name": "Dphi_Ashish_Kondra.ipynb",
      "provenance": []
    },
    "kernelspec": {
      "display_name": "Python 3",
      "name": "python3"
    },
    "language_info": {
      "name": "python"
    }
  },
  "nbformat": 4,
  "nbformat_minor": 0
}